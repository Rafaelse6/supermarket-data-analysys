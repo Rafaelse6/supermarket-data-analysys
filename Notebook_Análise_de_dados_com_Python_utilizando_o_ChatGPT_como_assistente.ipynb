{
  "cells": [
    {
      "cell_type": "markdown",
      "metadata": {
        "id": "ero2D81jdtyf"
      },
      "source": [
        "![Alt text: Logo da Zoop](https://github.com/alura-cursos/python-analise-chatgpt-assistente/blob/main/Logos%20e%20paleta%20-%20ZOOP/Logo%20fundo%20colorido%20(2).png?raw=true)"
      ]
    },
    {
      "cell_type": "markdown",
      "metadata": {
        "id": "DNyJGph17zvA"
      },
      "source": [
        "# Aula 1 - Acesso aos dados"
      ]
    },
    {
      "cell_type": "code",
      "execution_count": 5,
      "metadata": {
        "id": "a4sIvRiz7nUl"
      },
      "outputs": [],
      "source": [
        "url = 'https://github.com/alura-cursos/python-analise-chatgpt-assistente/raw/main/Dados/dados_vendas.json'"
      ]
    },
    {
      "cell_type": "markdown",
      "metadata": {
        "id": "Zt4oAgsS63kl"
      },
      "source": [
        "### Prompt:\n",
        "\n",
        "Vamos atuar como cientistas de dados em uma empresa de supermercados.\n",
        "\n",
        "Recebemos dados no formato de arquivo JSON, estruturados em listas e dicionários. O arquivo está disponibilizado em uma URL do Github.\n",
        "\n",
        "Precisamos analisar esses dados para ajudar nas decisões da empresa. Programamos em Python e conhecemos as bibliotecas de análise de dados Numpy e Pandas. Portanto, priorize o uso dessas bibliotecas.\n",
        "\n",
        "Por favor, nos informe como podemos fazer a leitura desses dados no formato JSON e como podemos visualizá-los em formato de tabela no Python."
      ]
    },
    {
      "cell_type": "code",
      "execution_count": 6,
      "metadata": {
        "id": "yhsqoIF5qqbl"
      },
      "outputs": [],
      "source": [
        "import numpy as np\n",
        "import pandas as pd"
      ]
    },
    {
      "cell_type": "markdown",
      "metadata": {
        "id": "83D4d29m-XUt"
      },
      "source": [
        "### Prompt:\n",
        "\n",
        "O DataFrame \"df\" possui as colunas \"item_identificador\", \"loja_identificador\", \"vendas_totais\", \"item\" e \"loja\".\n",
        "\n",
        "As colunas \"item\" e \"loja\" contêm dicionários aninhados dentro de cada uma das linhas. Como posso transformar os dados dos dicionários e colunas para torná-los mais acessíveis no meu DataFrame?"
      ]
    },
    {
      "cell_type": "code",
      "execution_count": 8,
      "metadata": {
        "id": "yv3VwgdtqpGC"
      },
      "outputs": [
        {
          "data": {
            "text/html": [
              "<div>\n",
              "<style scoped>\n",
              "    .dataframe tbody tr th:only-of-type {\n",
              "        vertical-align: middle;\n",
              "    }\n",
              "\n",
              "    .dataframe tbody tr th {\n",
              "        vertical-align: top;\n",
              "    }\n",
              "\n",
              "    .dataframe thead th {\n",
              "        text-align: right;\n",
              "    }\n",
              "</style>\n",
              "<table border=\"1\" class=\"dataframe\">\n",
              "  <thead>\n",
              "    <tr style=\"text-align: right;\">\n",
              "      <th></th>\n",
              "      <th>item_identificador</th>\n",
              "      <th>loja_identificador</th>\n",
              "      <th>vendas_totais</th>\n",
              "      <th>item_peso</th>\n",
              "      <th>item_conteudo_gordura</th>\n",
              "      <th>item_visibilidade</th>\n",
              "      <th>item_tipo</th>\n",
              "      <th>item_preco</th>\n",
              "      <th>item_quantidade_venda</th>\n",
              "      <th>loja_ano_estabelecimento</th>\n",
              "      <th>loja_tamanho</th>\n",
              "      <th>loja_tipo_localizacao</th>\n",
              "      <th>loja_tipo</th>\n",
              "    </tr>\n",
              "  </thead>\n",
              "  <tbody>\n",
              "    <tr>\n",
              "      <th>0</th>\n",
              "      <td>FDB08</td>\n",
              "      <td>OUT018</td>\n",
              "      <td>176503.58</td>\n",
              "      <td>6.055</td>\n",
              "      <td>Baixo Teor de Gordura</td>\n",
              "      <td>0.031230</td>\n",
              "      <td>Frutas e Vegetais</td>\n",
              "      <td>160.36</td>\n",
              "      <td>None</td>\n",
              "      <td>2019</td>\n",
              "      <td>Médio</td>\n",
              "      <td>Nível 3</td>\n",
              "      <td>Supermercado Tipo 2</td>\n",
              "    </tr>\n",
              "    <tr>\n",
              "      <th>1</th>\n",
              "      <td>DRQ35</td>\n",
              "      <td>OUT049</td>\n",
              "      <td>185758.20</td>\n",
              "      <td>9.300</td>\n",
              "      <td>Baixo Teor de Gordura</td>\n",
              "      <td>0.042357</td>\n",
              "      <td>Bebidas Alcoólicas</td>\n",
              "      <td>123.24</td>\n",
              "      <td>None</td>\n",
              "      <td>2009</td>\n",
              "      <td>Médio</td>\n",
              "      <td>Nível 1</td>\n",
              "      <td>Supermercado Tipo 1</td>\n",
              "    </tr>\n",
              "    <tr>\n",
              "      <th>2</th>\n",
              "      <td>FDD14</td>\n",
              "      <td>OUT018</td>\n",
              "      <td>165983.94</td>\n",
              "      <td>20.700</td>\n",
              "      <td>Baixo Teor de Gordura</td>\n",
              "      <td>0.170500</td>\n",
              "      <td>Enlatados</td>\n",
              "      <td>184.13</td>\n",
              "      <td>None</td>\n",
              "      <td>2019</td>\n",
              "      <td>Médio</td>\n",
              "      <td>Nível 3</td>\n",
              "      <td>Supermercado Tipo 2</td>\n",
              "    </tr>\n",
              "    <tr>\n",
              "      <th>3</th>\n",
              "      <td>FDY37</td>\n",
              "      <td>OUT045</td>\n",
              "      <td>314923.40</td>\n",
              "      <td>17.000</td>\n",
              "      <td>Regular</td>\n",
              "      <td>0.026623</td>\n",
              "      <td>Enlatados</td>\n",
              "      <td>144.25</td>\n",
              "      <td>None</td>\n",
              "      <td>2012</td>\n",
              "      <td>None</td>\n",
              "      <td>Nível 2</td>\n",
              "      <td>Supermercado Tipo 1</td>\n",
              "    </tr>\n",
              "    <tr>\n",
              "      <th>4</th>\n",
              "      <td>FDY59</td>\n",
              "      <td>OUT018</td>\n",
              "      <td>64782.34</td>\n",
              "      <td>8.195</td>\n",
              "      <td>Baixo Teor de Gordura</td>\n",
              "      <td>0.000000</td>\n",
              "      <td>Confeitaria</td>\n",
              "      <td>93.15</td>\n",
              "      <td>None</td>\n",
              "      <td>2019</td>\n",
              "      <td>Médio</td>\n",
              "      <td>Nível 3</td>\n",
              "      <td>Supermercado Tipo 2</td>\n",
              "    </tr>\n",
              "    <tr>\n",
              "      <th>...</th>\n",
              "      <td>...</td>\n",
              "      <td>...</td>\n",
              "      <td>...</td>\n",
              "      <td>...</td>\n",
              "      <td>...</td>\n",
              "      <td>...</td>\n",
              "      <td>...</td>\n",
              "      <td>...</td>\n",
              "      <td>...</td>\n",
              "      <td>...</td>\n",
              "      <td>...</td>\n",
              "      <td>...</td>\n",
              "      <td>...</td>\n",
              "    </tr>\n",
              "    <tr>\n",
              "      <th>8545</th>\n",
              "      <td>FDY08</td>\n",
              "      <td>OUT010</td>\n",
              "      <td>28096.76</td>\n",
              "      <td>9.395</td>\n",
              "      <td>Regular</td>\n",
              "      <td>0.286345</td>\n",
              "      <td>Frutas e Vegetais</td>\n",
              "      <td>139.18</td>\n",
              "      <td>None</td>\n",
              "      <td>2008</td>\n",
              "      <td>None</td>\n",
              "      <td>Nível 3</td>\n",
              "      <td>Mercado</td>\n",
              "    </tr>\n",
              "    <tr>\n",
              "      <th>8546</th>\n",
              "      <td>FDC41</td>\n",
              "      <td>OUT017</td>\n",
              "      <td>130163.90</td>\n",
              "      <td>15.600</td>\n",
              "      <td>Baixo Teor de Gordura</td>\n",
              "      <td>0.117575</td>\n",
              "      <td>Alimentos Congelados</td>\n",
              "      <td>75.67</td>\n",
              "      <td>None</td>\n",
              "      <td>2017</td>\n",
              "      <td>None</td>\n",
              "      <td>Nível 2</td>\n",
              "      <td>Supermercado Tipo 1</td>\n",
              "    </tr>\n",
              "    <tr>\n",
              "      <th>8547</th>\n",
              "      <td>NCQ53</td>\n",
              "      <td>OUT045</td>\n",
              "      <td>614533.40</td>\n",
              "      <td>17.600</td>\n",
              "      <td>Baixo Teor de Gordura</td>\n",
              "      <td>0.018944</td>\n",
              "      <td>Mercearia</td>\n",
              "      <td>237.36</td>\n",
              "      <td>None</td>\n",
              "      <td>2012</td>\n",
              "      <td>None</td>\n",
              "      <td>Nível 2</td>\n",
              "      <td>Supermercado Tipo 1</td>\n",
              "    </tr>\n",
              "    <tr>\n",
              "      <th>8548</th>\n",
              "      <td>FDL46</td>\n",
              "      <td>OUT017</td>\n",
              "      <td>164985.24</td>\n",
              "      <td>20.350</td>\n",
              "      <td>baixo teor de gordura</td>\n",
              "      <td>0.054363</td>\n",
              "      <td>Lanches</td>\n",
              "      <td>117.95</td>\n",
              "      <td>None</td>\n",
              "      <td>2017</td>\n",
              "      <td>None</td>\n",
              "      <td>Nível 2</td>\n",
              "      <td>Supermercado Tipo 1</td>\n",
              "    </tr>\n",
              "    <tr>\n",
              "      <th>8549</th>\n",
              "      <td>NCN30</td>\n",
              "      <td>OUT046</td>\n",
              "      <td>96541.00</td>\n",
              "      <td>16.350</td>\n",
              "      <td>BTG</td>\n",
              "      <td>0.016993</td>\n",
              "      <td>Cereais</td>\n",
              "      <td>95.74</td>\n",
              "      <td>None</td>\n",
              "      <td>2007</td>\n",
              "      <td>Pequeno</td>\n",
              "      <td>Nível 1</td>\n",
              "      <td>Supermercado Tipo 1</td>\n",
              "    </tr>\n",
              "  </tbody>\n",
              "</table>\n",
              "<p>8550 rows × 13 columns</p>\n",
              "</div>"
            ],
            "text/plain": [
              "     item_identificador  ...            loja_tipo\n",
              "0                 FDB08  ...  Supermercado Tipo 2\n",
              "1                 DRQ35  ...  Supermercado Tipo 1\n",
              "2                 FDD14  ...  Supermercado Tipo 2\n",
              "3                 FDY37  ...  Supermercado Tipo 1\n",
              "4                 FDY59  ...  Supermercado Tipo 2\n",
              "...                 ...  ...                  ...\n",
              "8545              FDY08  ...              Mercado\n",
              "8546              FDC41  ...  Supermercado Tipo 1\n",
              "8547              NCQ53  ...  Supermercado Tipo 1\n",
              "8548              FDL46  ...  Supermercado Tipo 1\n",
              "8549              NCN30  ...  Supermercado Tipo 1\n",
              "\n",
              "[8550 rows x 13 columns]"
            ]
          },
          "execution_count": 8,
          "metadata": {},
          "output_type": "execute_result"
        }
      ],
      "source": [
        "from pandas import json_normalize\n",
        "\n",
        "df = pd.read_json(url)\n",
        "df.head()\n",
        "\n",
        "# Normalize os dados da coluna \"item\"\n",
        "df_item_normalized = json_normalize(df['item'])\n",
        "\n",
        "# Normalize os dados da coluna \"loja\"\n",
        "df_loja_normalized = json_normalize(df['loja'])\n",
        "\n",
        "# Combine os DataFrames normalizados com o DataFrame original\n",
        "df = pd.concat([df, df_item_normalized, df_loja_normalized], axis=1)\n",
        "\n",
        "# Exclua as colunas originais de \"item\" e \"loja\" se necessário\n",
        "df.drop(['item', 'loja'], axis=1, inplace=True)\n",
        "df"
      ]
    },
    {
      "cell_type": "markdown",
      "metadata": {
        "id": "W4Lf2C57fuAl"
      },
      "source": [
        "# Aula 2 - Exploração dos dados"
      ]
    },
    {
      "cell_type": "markdown",
      "metadata": {
        "id": "p8njjUdbfvyQ"
      },
      "source": [
        "### Prompt:\n",
        "\n",
        "O DataFrame \"df\" contém dados referentes às vendas de diversos produtos em várias lojas do supermercado. São fornecidos IDs de produtos e IDs de lojas que comercializaram esses produtos, o total arrecadado em vendas, bem como descrições sobre o produto vendido e a loja que o vendeu.\n",
        "\n",
        "Estamos iniciando a etapa de exploração de dados, na qual desejamos conhecer os valores informados e identificar se existem valores ausentes, duplicados e outras inconsistências.\n",
        "\n",
        "Por favor, construa um código para executar a etapa de exploração de dados usando o Python.\n",
        "\n",
        "Não é necessário utilizar \"print()\" para mostrar o resultado das consultas."
      ]
    },
    {
      "cell_type": "code",
      "execution_count": null,
      "metadata": {
        "id": "hJ8C-degqiPf"
      },
      "outputs": [],
      "source": []
    },
    {
      "cell_type": "code",
      "execution_count": null,
      "metadata": {
        "id": "vH567gGuqiIR"
      },
      "outputs": [],
      "source": []
    },
    {
      "cell_type": "code",
      "execution_count": null,
      "metadata": {
        "id": "vQe3V5TRqh-v"
      },
      "outputs": [],
      "source": []
    },
    {
      "cell_type": "code",
      "execution_count": null,
      "metadata": {
        "id": "0Mvw1yhwqh2Y"
      },
      "outputs": [],
      "source": []
    },
    {
      "cell_type": "code",
      "execution_count": null,
      "metadata": {
        "id": "9ELlCNNTqhvJ"
      },
      "outputs": [],
      "source": []
    },
    {
      "cell_type": "code",
      "execution_count": null,
      "metadata": {
        "id": "uhZzt4VXqhnp"
      },
      "outputs": [],
      "source": []
    },
    {
      "cell_type": "code",
      "execution_count": null,
      "metadata": {
        "id": "vbx16nzZqhgx"
      },
      "outputs": [],
      "source": []
    },
    {
      "cell_type": "markdown",
      "metadata": {
        "id": "C19M8aSDYvCG"
      },
      "source": [
        "### Prompt:\n",
        "\n",
        "O DataFrame \"df\" contém dados relacionados às vendas durante um trimestre de um supermercado. Desejo utilizá-lo para verificar o desempenho dessas vendas.\n",
        "\n",
        "Durante a exploração do \"df\", identificamos algumas inconsistências, como:\n",
        "\n",
        "- Linhas duplicadas,\n",
        "- Valores nulos e\n",
        "- Dados categóricos que foram escritos de maneira não padronizada, dando a ideia de que existem mais categorias do que as que realmente existem.\n",
        "\n",
        "O que devo fazer para garantir que essas inconsistências que encontrei não afetem minha análise?"
      ]
    },
    {
      "cell_type": "markdown",
      "metadata": {
        "id": "G_hAVoCRvPQr"
      },
      "source": [
        "# Aula 3 - Limpeza e tratamento"
      ]
    },
    {
      "cell_type": "markdown",
      "metadata": {
        "id": "7ufY_5AMkh2T"
      },
      "source": [
        "### Prompt:\n",
        "\n",
        "Durante a exploração do DataFrame \"df\", identificamos 27 linhas duplicadas usando \"df.duplicated().sum()\".\n",
        "\n",
        "O objetivo é analisar os dados em \"df\" para medir o desempenho de uma empresa durante um trimestre de vendas.\n",
        "\n",
        "O que devemos fazer com os dados duplicados para garantir que não haja impacto negativo na análise?"
      ]
    },
    {
      "cell_type": "code",
      "execution_count": null,
      "metadata": {
        "id": "cGZGWMtjqWYQ"
      },
      "outputs": [],
      "source": []
    },
    {
      "cell_type": "markdown",
      "metadata": {
        "id": "I6Hy7Ytastru"
      },
      "source": [
        "### Prompt:\n",
        "\n",
        "Identificamos três colunas em \"df\" que apresentam valores nulos:\n",
        "\n",
        "- A coluna \"item_quantidade_venda\" possui 8550 linhas com valores nulos.\n",
        "- A coluna \"item_peso\" possui 1469 linhas com valores nulos.\n",
        "- A coluna \"loja_tamanho\" possui 2417 linhas com valores nulos.\n",
        "\n",
        "Houve um grande número de vendas de itens durante o trimestre, e não há justificativa para a ausência de dados na coluna \"item_quantidade_venda\", o que a torna uma coluna dispensável.\n",
        "\n",
        "A coluna \"item_peso\" contém valores do tipo float, representando o peso em gramas dos produtos.\n",
        "\n",
        "A coluna \"loja_tamanho\" possui três categorias de tamanho para supermercados.\n",
        "\n",
        "Como devo lidar com esses dados nulos para garantir que minha análise não seja prejudicada?"
      ]
    },
    {
      "cell_type": "code",
      "execution_count": null,
      "metadata": {
        "id": "leAfcy8hqTip"
      },
      "outputs": [],
      "source": []
    },
    {
      "cell_type": "code",
      "execution_count": null,
      "metadata": {
        "id": "VLsPoyLUqTb_"
      },
      "outputs": [],
      "source": []
    },
    {
      "cell_type": "code",
      "execution_count": null,
      "metadata": {
        "id": "r382rlQJqTTP"
      },
      "outputs": [],
      "source": []
    },
    {
      "cell_type": "code",
      "execution_count": null,
      "metadata": {
        "id": "blpHqYcZqTL1"
      },
      "outputs": [],
      "source": []
    },
    {
      "cell_type": "markdown",
      "metadata": {
        "id": "9AkMkZZh7iTm"
      },
      "source": [
        "### Prompt:\n",
        "\n",
        "A coluna \"item_conteudo_gordura\" do DataFrame \"df\" apresenta 5 valores únicos dados por: 'Baixo Teor de Gordura', 'Regular', 'BTG', 'reg' e 'baixo teor de gordura'.\n",
        "\n",
        "Os valores únicos da coluna \"item_conteudo_gordura\" deveriam ser apenas 'Baixo Teor de Gordura' e 'Regular', mas foram inseridos sem padronização, o que resultou em mais categorias do que o desejado.\n",
        "\n",
        "Como posso ajustar os dados da coluna \"item_conteudo_gordura\" para manter apenas as duas categorias padrões?"
      ]
    },
    {
      "cell_type": "code",
      "execution_count": null,
      "metadata": {
        "id": "LNBMAXCbqRBV"
      },
      "outputs": [],
      "source": []
    },
    {
      "cell_type": "markdown",
      "metadata": {
        "id": "rQz1ZnoU7os1"
      },
      "source": [
        "# Aula 4 - Visualização dos dados"
      ]
    },
    {
      "cell_type": "markdown",
      "metadata": {
        "id": "VFVsWaue7x5S"
      },
      "source": [
        "### Prompt:\n",
        "\n",
        "Os dados do DataFrame \"df\" estão limpos e tratados. Agora, desejo iniciar a etapa de construção de gráficos para criar visualizações que ofereçam um bom suporte à análise do desempenho de vendas da empresa.\n",
        "\n",
        "As colunas disponíveis em \"df\" são as seguintes:\n",
        "- \"item_identificador\": Número único atribuído a cada Item\n",
        "- \"loja_identificador\": Nome único da Loja\n",
        "- \"vendas_totais\": Valor obtido em vendas totais\n",
        "- \"item_peso\": Peso do Item em gramas\n",
        "- \"item_conteudo_gordura\": Conteúdo de Gordura do Item\n",
        "- \"item_visibilidade\": Valor de posicionamento de cada item.\n",
        "- \"item_tipo\": Tipo de utilidade do item\n",
        "- \"item_preço\": Preço unitário do item\n",
        "- \"loja_ano_estabelecimento\": Ano de Estabelecimento da Loja.\n",
        "- \"loja_tamanho\": Tamanho da Loja\n",
        "- \"loja_tipo_localização\": Tipo de localização da loja\n",
        "- \"loja_tipo\": Tipo de loja.\n",
        "\n",
        "O objetivo é encontrar padrões ou informações que se destacam quando nos referimos ao total obtido em vendas especificado na coluna \"vendas_totais\".\n",
        "\n",
        "Com base nas informações fornecidas, quais tipos de visualizações seriam úteis para atingir o objetivo de analisar o desempenho de vendas?"
      ]
    },
    {
      "cell_type": "markdown",
      "metadata": {
        "id": "K3ZOiEzb8BZr"
      },
      "source": [
        "### Prompt:\n",
        "\n",
        "O DataFrame \"df\" contém a coluna \"vendas_totais\", que informa o valor em reais obtido em vendas de produtos por várias lojas.\n",
        "\n",
        "Além disso, em \"df\", temos a coluna \"loja_tamanho\" com 4 categorias de tamanho para lojas: 'Grande', 'Médio', 'Pequeno' e 'Não registrado'.\n",
        "\n",
        "Desejo criar uma visualização que permita identificar o total obtido em vendas para as quatro categorias de tamanho de loja e representá-las em um gráfico de barras.\n",
        "\n",
        "Os dados na coluna \"vendas_totais\" precisam ser agrupados pelas categorias de \"loja_tamanho\".\n",
        "\n",
        "A figura da plotagem deve seguir a identidade visual da loja, com o fundo da figura e do plot na cor \"#ebebeb\" e as barras na cor \"#e23155\".\n",
        "\n",
        "Além disso, é necessário exibir o total das vendas em milhões acima de cada coluna, com o texto dessa informação na cor \"#19325c\" e a estrutura \"R$ valor M\".\n",
        "\n",
        "Utilize as bibliotecas de visualização de dados do Python para criar essa visualização."
      ]
    },
    {
      "cell_type": "code",
      "execution_count": null,
      "metadata": {
        "id": "_6Bpz6faFvCQ"
      },
      "outputs": [],
      "source": []
    },
    {
      "cell_type": "markdown",
      "metadata": {
        "id": "g9cLdbTfdpT2"
      },
      "source": [
        "### Prompt:\n",
        "\n",
        "O DataFrame \"df\" contém a coluna \"vendas_totais\", que informa o valor em reais obtido em vendas de produtos por várias lojas.\n",
        "\n",
        "Além disso, em \"df\", temos a coluna \"loja_tipo\" com 4 categorias de tipo para lojas: 'Supermercado Tipo 1', 'Supermercado Tipo 2',  'Mercado', 'Supermercado Tipo 3'.\n",
        "\n",
        "Desejo criar uma visualização que permita identificar o total obtido em vendas para as quatro categorias de tipo de loja e representá-las em um gráfico de barras.\n",
        "\n",
        "Os dados na coluna \"vendas_totais\" precisam ser agrupados pelas categorias de \"loja_tipo\".\n",
        "\n",
        "A figura da plotagem deve seguir a identidade visual da loja, com o fundo da figura e do plot na cor \"#ebebeb\" e as barras na cor \"#e23155\".\n",
        "\n",
        "Além disso, é necessário exibir o total das vendas em milhões acima de cada coluna, com o texto dessa informação na cor \"#19325c\" e a estrutura \"R$ valor M\".\n",
        "\n",
        "Utilize as bibliotecas de visualização de dados do Python para criar essa visualização."
      ]
    },
    {
      "cell_type": "code",
      "execution_count": null,
      "metadata": {
        "id": "t5IVB-JLFtAG"
      },
      "outputs": [],
      "source": []
    },
    {
      "cell_type": "markdown",
      "metadata": {
        "id": "Mx19h7MF8CR6"
      },
      "source": [
        "### Prompt:\n",
        "\n",
        "O DataFrame \"df\" contém a coluna \"vendas_totais\", que informa o valor em reais obtido em vendas de produtos por várias lojas.\n",
        "\n",
        "Além disso, em \"df\", temos a coluna \"item_tipo\" com 16 categorias de produtos.\n",
        "\n",
        "Desejo criar uma visualização que permita identificar o total obtido em vendas por categorias de produtos em um gráfico de barras horizontais.\n",
        "\n",
        "Os dados na coluna \"vendas_totais\" precisam ser agrupados pelas categorias de \"item_tipo\".\n",
        "\n",
        "A figura da plotagem deve seguir a identidade visual da loja, com o fundo da figura e do plot na cor \"#ebebeb\".\n",
        "\n",
        "As barras precisam estar na cor \"#e23155\".\n",
        "\n",
        "Os valores das barras precisam estar ordenadas para manter um aspecto de funil.\n",
        "\n",
        "Além disso, é necessário exibir o total das vendas em milhões dentro ou ao lado de cada barra, com o texto dessa informação na cor \"#19325c\" e na estrutura \"R$ valor M\".\n",
        "\n",
        "Não mostre o grid no plot.\n",
        "\n",
        "Utilize as bibliotecas de visualização de dados do Python para criar essa visualização."
      ]
    },
    {
      "cell_type": "code",
      "execution_count": null,
      "metadata": {
        "id": "nWO4lWZRFrLk"
      },
      "outputs": [],
      "source": []
    },
    {
      "cell_type": "markdown",
      "metadata": {
        "id": "c-eDDmkPdrTZ"
      },
      "source": [
        "### Prompt:\n",
        "\n",
        "O DataFrame \"df\" contém a coluna \"vendas_totais\", que informa o valor em reais obtido em vendas de produtos por várias lojas.\n",
        "\n",
        "Além disso, em \"df\", temos a coluna \"item_conteudo_gordura\" com 2 categorias: 'Baixo Teor de Gordura' e 'Regular'.\n",
        "\n",
        "Desejo criar uma visualização que permita identificar o total obtido em vendas para as 2 categorias de quantidade de gordura em um gráfico de coluna.\n",
        "\n",
        "Os dados na coluna \"vendas_totais\" precisam ser agrupados pelas categorias de \"item_conteudo_gordura\".\n",
        "\n",
        "A figura da plotagem deve seguir a identidade visual da loja, com o fundo da figura e do plot na cor \"#ebebeb\".\n",
        "\n",
        "As colunas de cada categoria devem ter cores específicas: a categoria 'Baixo Teor de Gordura' na cor \"#e23155\" e a categoria 'Regular' na cor \"#acdcd3\".\n",
        "\n",
        "Além disso, é necessário exibir o total das vendas em milhões acima de cada coluna, com o texto dessa informação na cor \"#19325c\" e na estrutura \"R$ valor M\".\n",
        "\n",
        "Utilize as bibliotecas de visualização de dados do Python para criar essa visualização."
      ]
    },
    {
      "cell_type": "code",
      "execution_count": null,
      "metadata": {
        "id": "pWv3JHNOclRt"
      },
      "outputs": [],
      "source": []
    }
  ],
  "metadata": {
    "colab": {
      "provenance": []
    },
    "kernelspec": {
      "display_name": "Python 3",
      "name": "python3"
    },
    "language_info": {
      "codemirror_mode": {
        "name": "ipython",
        "version": 3
      },
      "file_extension": ".py",
      "mimetype": "text/x-python",
      "name": "python",
      "nbconvert_exporter": "python",
      "pygments_lexer": "ipython3",
      "version": "3.12.2"
    }
  },
  "nbformat": 4,
  "nbformat_minor": 0
}
